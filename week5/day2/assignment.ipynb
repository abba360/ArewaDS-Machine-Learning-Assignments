{
 "cells": [
  {
   "attachments": {},
   "cell_type": "markdown",
   "metadata": {},
   "source": [
    "# Assignment\n",
    "# Study the solvers\n",
    "## Instructions\n",
    "\n",
    "In this lesson you learned about the various solvers that pair algorithms with a machine learning process to create an accurate model. Walk through the solvers listed in the lesson and pick two. In your own words, compare and contrast these two solvers. What kind of problem do they address? How do they work with various data structures? Why would you pick one over another? "
   ]
  },
  {
   "cell_type": "code",
   "execution_count": null,
   "metadata": {
    "vscode": {
     "languageId": "plaintext"
    }
   },
   "outputs": [],
   "source": []
  },
  {
   "attachments": {},
   "cell_type": "markdown",
   "metadata": {},
   "source": [
    "# Answer\n",
    "\n",
    "liblinear(i.e library for linear classification) is more acurate and also fast and efficient solver for logistic regression. It is particularly well-suited for small datasets with a large number of features. liblinear can be more accurate than lbfgs for small datasets.\n",
    "\n",
    "lbfgs(i.e limited-memory Broyden–Fietcher–Goldfarb–Shanno) It is based on the limited-memory Broyden–Fietcher–Goldfarb–Shanno algorithm, which is a more sophisticated algorithm for finding the minimum of a function. lbfgs can be more accurate than liblinear for large datasets, but it is also slower.\n",
    "\n",
    "Inconclusion, the best solver for a particular problem will depend on the data and the desired outcome. If the data is small and the accuracy is not critical, then liblinear may be a good choice. If the data is large and accuracy is critical, then lbfgs may be a better choice."
   ]
  }
 ],
 "metadata": {
  "language_info": {
   "name": "python"
  },
  "orig_nbformat": 4
 },
 "nbformat": 4,
 "nbformat_minor": 2
}
