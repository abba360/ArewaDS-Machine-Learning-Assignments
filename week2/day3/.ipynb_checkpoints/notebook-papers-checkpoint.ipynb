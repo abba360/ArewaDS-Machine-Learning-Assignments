{
 "cells": [
  {
   "cell_type": "markdown",
   "metadata": {},
   "source": [
    "# Analyzing COVID-19 Papers\n",
    "\n",
    "In this challenge, we will continue with the topic of COVID pandemic, and focus on processing scientific papers on the subject. There is [CORD-19 Dataset](https://www.kaggle.com/allen-institute-for-ai/CORD-19-research-challenge) with more than 7000 (at the time of writing) papers on COVID, available with metadata and abstracts (and for about half of them there is also full text provided).\n",
    "\n",
    "A full example of analyzing this dataset using [Text Analytics for Health](https://docs.microsoft.com/azure/cognitive-services/text-analytics/how-tos/text-analytics-for-health/?WT.mc_id=academic-77958-bethanycheum) cognitive service is described [in this blog post](https://soshnikov.com/science/analyzing-medical-papers-with-azure-and-text-analytics-for-health/). We will discuss simplified version of this analysis."
   ]
  },
  {
   "cell_type": "code",
   "execution_count": 29,
   "metadata": {},
   "outputs": [],
   "source": [
    "import pandas as pd\n",
    "import numpy as np\n",
    "import matplotlib.pyplot as plt"
   ]
  },
  {
   "cell_type": "markdown",
   "metadata": {},
   "source": [
    "## Getting the Data\n",
    "\n",
    "First, we need get the metadata for CORD papers that we will be working with.\n",
    "\n",
    "**NOTE**: We do not provide a copy of the dataset as part of this repository. You may first need to download the [`metadata.csv`](https://www.kaggle.com/allen-institute-for-ai/CORD-19-research-challenge?select=metadata.csv) file from [this dataset on Kaggle](https://www.kaggle.com/allen-institute-for-ai/CORD-19-research-challenge). Registration with Kaggle may be required. You may also download the dataset without registration [from here](https://ai2-semanticscholar-cord-19.s3-us-west-2.amazonaws.com/historical_releases.html), but it will include all full texts in addition to metadata file.\n",
    "\n",
    "We will try to get the data directly from online source, however, if it fails, you need to download the data as described above. Also, it makes sense to download the data if you plan to experiment with it further, to save on waiting time.\n",
    "\n",
    "> **NOTE** that dataset is quite large, around 1 Gb in size, and the following line of code can take a long time to complete! (~5 mins)"
   ]
  },
  {
   "cell_type": "code",
   "execution_count": 30,
   "metadata": {},
   "outputs": [
    {
     "data": {
      "text/html": [
       "<div>\n",
       "<style scoped>\n",
       "    .dataframe tbody tr th:only-of-type {\n",
       "        vertical-align: middle;\n",
       "    }\n",
       "\n",
       "    .dataframe tbody tr th {\n",
       "        vertical-align: top;\n",
       "    }\n",
       "\n",
       "    .dataframe thead th {\n",
       "        text-align: right;\n",
       "    }\n",
       "</style>\n",
       "<table border=\"1\" class=\"dataframe\">\n",
       "  <thead>\n",
       "    <tr style=\"text-align: right;\">\n",
       "      <th></th>\n",
       "      <th>cord_uid</th>\n",
       "      <th>sha</th>\n",
       "      <th>source_x</th>\n",
       "      <th>title</th>\n",
       "      <th>doi</th>\n",
       "      <th>pmcid</th>\n",
       "      <th>pubmed_id</th>\n",
       "      <th>license</th>\n",
       "      <th>abstract</th>\n",
       "      <th>publish_time</th>\n",
       "      <th>authors</th>\n",
       "      <th>journal</th>\n",
       "      <th>mag_id</th>\n",
       "      <th>who_covidence_id</th>\n",
       "      <th>arxiv_id</th>\n",
       "      <th>pdf_json_files</th>\n",
       "      <th>pmc_json_files</th>\n",
       "      <th>url</th>\n",
       "      <th>s2_id</th>\n",
       "    </tr>\n",
       "  </thead>\n",
       "  <tbody>\n",
       "    <tr>\n",
       "      <th>0</th>\n",
       "      <td>4429oz9s</td>\n",
       "      <td>NaN</td>\n",
       "      <td>Medline</td>\n",
       "      <td>Will pay for performance improve quality of ca...</td>\n",
       "      <td>10.1056/nejme1212133</td>\n",
       "      <td>NaN</td>\n",
       "      <td>23134388.0</td>\n",
       "      <td>unk</td>\n",
       "      <td>NaN</td>\n",
       "      <td>2012</td>\n",
       "      <td>Epstein, Arnold M</td>\n",
       "      <td>The New England journal of medicine</td>\n",
       "      <td>NaN</td>\n",
       "      <td>NaN</td>\n",
       "      <td>NaN</td>\n",
       "      <td>NaN</td>\n",
       "      <td>NaN</td>\n",
       "      <td>https://doi.org/10.1056/nejme1212133; https://...</td>\n",
       "      <td>10014458.0</td>\n",
       "    </tr>\n",
       "    <tr>\n",
       "      <th>1</th>\n",
       "      <td>sjdy79ok</td>\n",
       "      <td>NaN</td>\n",
       "      <td>Medline; WHO</td>\n",
       "      <td>Impact of Sitagliptin in Non-Diabetic Covid-19...</td>\n",
       "      <td>10.2174/1874467214666210902115650</td>\n",
       "      <td>NaN</td>\n",
       "      <td>34477540.0</td>\n",
       "      <td>unk</td>\n",
       "      <td>OBJECTIVE In Coronavirus disease 2019 (Covid-1...</td>\n",
       "      <td>2021-09-01</td>\n",
       "      <td>Al-Kuraishy, Hayder M; Al-Gareeb, Ali I; Qusty...</td>\n",
       "      <td>Current molecular pharmacology</td>\n",
       "      <td>NaN</td>\n",
       "      <td>NaN</td>\n",
       "      <td>NaN</td>\n",
       "      <td>NaN</td>\n",
       "      <td>NaN</td>\n",
       "      <td>https://doi.org/10.2174/1874467214666210902115...</td>\n",
       "      <td>237399283.0</td>\n",
       "    </tr>\n",
       "    <tr>\n",
       "      <th>2</th>\n",
       "      <td>qa5n3xpi</td>\n",
       "      <td>NaN</td>\n",
       "      <td>WHO</td>\n",
       "      <td>Utilizing Health Behavior Change and Technolog...</td>\n",
       "      <td>NaN</td>\n",
       "      <td>NaN</td>\n",
       "      <td>NaN</td>\n",
       "      <td>unk</td>\n",
       "      <td>BACKGROUND: To combat the global COVID-19 pand...</td>\n",
       "      <td>2021</td>\n",
       "      <td>Tomczyk, Samuel; Barth, Simon; Schmidt, Silke;...</td>\n",
       "      <td>J Med Internet Res</td>\n",
       "      <td>NaN</td>\n",
       "      <td>#covidwho-1259297</td>\n",
       "      <td>NaN</td>\n",
       "      <td>NaN</td>\n",
       "      <td>NaN</td>\n",
       "      <td>NaN</td>\n",
       "      <td>233351148.0</td>\n",
       "    </tr>\n",
       "    <tr>\n",
       "      <th>3</th>\n",
       "      <td>jasf7agm</td>\n",
       "      <td>4d4a64f98aac069dd375c8a82d84808fcd7493d8</td>\n",
       "      <td>Medline; PMC</td>\n",
       "      <td>Tiotropium bromide as adjunct therapy in child...</td>\n",
       "      <td>10.1186/s13223-021-00632-4</td>\n",
       "      <td>PMC8666101</td>\n",
       "      <td>34895321.0</td>\n",
       "      <td>cc-by</td>\n",
       "      <td>BACKGROUND: The Global Initiative for Asthma h...</td>\n",
       "      <td>2021-12-12</td>\n",
       "      <td>Ridha, Zainab; Bédard, Marc-Antoine; Smyrnova,...</td>\n",
       "      <td>Allergy Asthma Clin Immunol</td>\n",
       "      <td>NaN</td>\n",
       "      <td>NaN</td>\n",
       "      <td>NaN</td>\n",
       "      <td>document_parses/pdf_json/4d4a64f98aac069dd375c...</td>\n",
       "      <td>document_parses/pmc_json/PMC8666101.xml.json</td>\n",
       "      <td>https://doi.org/10.1186/s13223-021-00632-4; ht...</td>\n",
       "      <td>245118970.0</td>\n",
       "    </tr>\n",
       "    <tr>\n",
       "      <th>4</th>\n",
       "      <td>dagq84tr</td>\n",
       "      <td>464b915e6d545b37d65ac58cecf42512b11a92e2</td>\n",
       "      <td>Medline; PMC; WHO</td>\n",
       "      <td>Anti-inflammatory adipokines: chemerin, vaspin...</td>\n",
       "      <td>10.1038/s41598-021-00928-w</td>\n",
       "      <td>PMC8563971</td>\n",
       "      <td>34728695.0</td>\n",
       "      <td>cc-by</td>\n",
       "      <td>Coronavirus disease 2019 (COVID-19) is associa...</td>\n",
       "      <td>2021-11-02</td>\n",
       "      <td>Kukla, Michał; Menżyk, Tomasz; Dembiński, Marc...</td>\n",
       "      <td>Sci Rep</td>\n",
       "      <td>NaN</td>\n",
       "      <td>NaN</td>\n",
       "      <td>NaN</td>\n",
       "      <td>document_parses/pdf_json/464b915e6d545b37d65ac...</td>\n",
       "      <td>document_parses/pmc_json/PMC8563971.xml.json</td>\n",
       "      <td>https://doi.org/10.1038/s41598-021-00928-w; ht...</td>\n",
       "      <td>241112264.0</td>\n",
       "    </tr>\n",
       "  </tbody>\n",
       "</table>\n",
       "</div>"
      ],
      "text/plain": [
       "   cord_uid                                       sha           source_x  \\\n",
       "0  4429oz9s                                       NaN            Medline   \n",
       "1  sjdy79ok                                       NaN       Medline; WHO   \n",
       "2  qa5n3xpi                                       NaN                WHO   \n",
       "3  jasf7agm  4d4a64f98aac069dd375c8a82d84808fcd7493d8       Medline; PMC   \n",
       "4  dagq84tr  464b915e6d545b37d65ac58cecf42512b11a92e2  Medline; PMC; WHO   \n",
       "\n",
       "                                               title  \\\n",
       "0  Will pay for performance improve quality of ca...   \n",
       "1  Impact of Sitagliptin in Non-Diabetic Covid-19...   \n",
       "2  Utilizing Health Behavior Change and Technolog...   \n",
       "3  Tiotropium bromide as adjunct therapy in child...   \n",
       "4  Anti-inflammatory adipokines: chemerin, vaspin...   \n",
       "\n",
       "                                 doi       pmcid   pubmed_id license  \\\n",
       "0               10.1056/nejme1212133         NaN  23134388.0     unk   \n",
       "1  10.2174/1874467214666210902115650         NaN  34477540.0     unk   \n",
       "2                                NaN         NaN         NaN     unk   \n",
       "3         10.1186/s13223-021-00632-4  PMC8666101  34895321.0   cc-by   \n",
       "4         10.1038/s41598-021-00928-w  PMC8563971  34728695.0   cc-by   \n",
       "\n",
       "                                            abstract publish_time  \\\n",
       "0                                                NaN         2012   \n",
       "1  OBJECTIVE In Coronavirus disease 2019 (Covid-1...   2021-09-01   \n",
       "2  BACKGROUND: To combat the global COVID-19 pand...         2021   \n",
       "3  BACKGROUND: The Global Initiative for Asthma h...   2021-12-12   \n",
       "4  Coronavirus disease 2019 (COVID-19) is associa...   2021-11-02   \n",
       "\n",
       "                                             authors  \\\n",
       "0                                  Epstein, Arnold M   \n",
       "1  Al-Kuraishy, Hayder M; Al-Gareeb, Ali I; Qusty...   \n",
       "2  Tomczyk, Samuel; Barth, Simon; Schmidt, Silke;...   \n",
       "3  Ridha, Zainab; Bédard, Marc-Antoine; Smyrnova,...   \n",
       "4  Kukla, Michał; Menżyk, Tomasz; Dembiński, Marc...   \n",
       "\n",
       "                               journal  mag_id   who_covidence_id  arxiv_id  \\\n",
       "0  The New England journal of medicine     NaN                NaN       NaN   \n",
       "1       Current molecular pharmacology     NaN                NaN       NaN   \n",
       "2                   J Med Internet Res     NaN  #covidwho-1259297       NaN   \n",
       "3          Allergy Asthma Clin Immunol     NaN                NaN       NaN   \n",
       "4                              Sci Rep     NaN                NaN       NaN   \n",
       "\n",
       "                                      pdf_json_files  \\\n",
       "0                                                NaN   \n",
       "1                                                NaN   \n",
       "2                                                NaN   \n",
       "3  document_parses/pdf_json/4d4a64f98aac069dd375c...   \n",
       "4  document_parses/pdf_json/464b915e6d545b37d65ac...   \n",
       "\n",
       "                                 pmc_json_files  \\\n",
       "0                                           NaN   \n",
       "1                                           NaN   \n",
       "2                                           NaN   \n",
       "3  document_parses/pmc_json/PMC8666101.xml.json   \n",
       "4  document_parses/pmc_json/PMC8563971.xml.json   \n",
       "\n",
       "                                                 url        s2_id  \n",
       "0  https://doi.org/10.1056/nejme1212133; https://...   10014458.0  \n",
       "1  https://doi.org/10.2174/1874467214666210902115...  237399283.0  \n",
       "2                                                NaN  233351148.0  \n",
       "3  https://doi.org/10.1186/s13223-021-00632-4; ht...  245118970.0  \n",
       "4  https://doi.org/10.1038/s41598-021-00928-w; ht...  241112264.0  "
      ]
     },
     "execution_count": 30,
     "metadata": {},
     "output_type": "execute_result"
    }
   ],
   "source": [
    "# df = pd.read_csv(\"https://datascience4beginners.blob.core.windows.net/cord/metadata.csv.zip\",compression='zip')\n",
    "df = pd.read_csv(\"metadata.csv\")\n",
    "df.head()"
   ]
  },
  {
   "cell_type": "markdown",
   "metadata": {},
   "source": [
    "We will now convert publication date column to `datetime`, and plot the histogram to see the range of publication dates."
   ]
  },
  {
   "cell_type": "code",
   "execution_count": 31,
   "metadata": {},
   "outputs": [
    {
     "data": {
      "image/png": "[encoded data removed]",
      "text/plain": [
       "<Figure size 432x288 with 1 Axes>"
      ]
     },
     "metadata": {
      "needs_background": "light"
     },
     "output_type": "display_data"
    }
   ],
   "source": [
    "df['publish_time'] = pd.to_datetime(df['publish_time'])\n",
    "df['publish_time'].hist()\n",
    "plt.show()"
   ]
  },
  {
   "cell_type": "markdown",
   "metadata": {},
   "source": [
    "Interestingly, there are coronavirus-related papers that date back to 1880!"
   ]
  },
  {
   "cell_type": "markdown",
   "metadata": {},
   "source": [
    "## Structured Data Extraction\n",
    "\n",
    "Let's see what kind of information we can easily extract from abstracts. One thing we might be interested in is to see which treatment strategies exist, and how they evolved over time. To begin with, we can manually compile the list of possible medications used to treat COVID, and also the list of diagnoses. We then go over them and search corresponding terms in the abstracts of papers."
   ]
  },
  {
   "cell_type": "code",
   "execution_count": 32,
   "metadata": {},
   "outputs": [
    {
     "name": "stdout",
     "output_type": "stream",
     "text": [
      " + Processing medication: hydroxychloroquine\n",
      " + Processing medication: chloroquine\n",
      " + Processing medication: tocilizumab\n",
      " + Processing medication: remdesivir\n",
      " + Processing medication: azithromycin\n",
      " + Processing medication: lopinavir\n",
      " + Processing medication: ritonavir\n",
      " + Processing medication: dexamethasone\n",
      " + Processing medication: heparin\n",
      " + Processing medication: favipiravir\n",
      " + Processing medication: methylprednisolone\n",
      " + Processing diagnosis: covid\n",
      " + Processing diagnosis: sars\n",
      " + Processing diagnosis: pneumonia\n",
      " + Processing diagnosis: infection\n",
      " + Processing diagnosis: diabetes\n",
      " + Processing diagnosis: coronavirus\n",
      " + Processing diagnosis: death\n"
     ]
    }
   ],
   "source": [
    "medications = [\n",
    "    'hydroxychloroquine', 'chloroquine', 'tocilizumab', 'remdesivir', 'azithromycin', \n",
    "    'lopinavir', 'ritonavir', 'dexamethasone', 'heparin', 'favipiravir', 'methylprednisolone']\n",
    "diagnosis = [\n",
    "    'covid','sars','pneumonia','infection','diabetes','coronavirus','death'\n",
    "]\n",
    "\n",
    "for m in medications:\n",
    "    print(f\" + Processing medication: {m}\")\n",
    "    df[m] = df['abstract'].apply(lambda x: str(x).lower().count(' '+m))\n",
    "\n",
    "for m in diagnosis:\n",
    "    print(f\" + Processing diagnosis: {m}\")\n",
    "    df[m] = df['abstract'].apply(lambda x: str(x).lower().count(' '+m))"
   ]
  },
  {
   "cell_type": "markdown",
   "metadata": {},
   "source": [
    "We have added a bunch of columns to our dataframe that contain number of times a given medicine/diagnosis is present in the abstract. \n",
    "\n",
    "> **Note** that we add space to the beginning of the word when looking for a substring. If we do not do that, we might get wrong results, because *chloroquine* would also be found inside substring *hydroxychloroquine*. Also, we force conversion of abstracts column to `str` to get rid of an error - try removing `str` and see what happens.\n",
    "\n",
    "To make working with data easier, we can extract the sub-frame with only medication counts, and compute the accumulated number of occurrences. This gives is the most popular medication: "
   ]
  },
  {
   "cell_type": "code",
   "execution_count": 38,
   "metadata": {},
   "outputs": [
    {
     "data": {
      "text/html": [
       "<div>\n",
       "<style scoped>\n",
       "    .dataframe tbody tr th:only-of-type {\n",
       "        vertical-align: middle;\n",
       "    }\n",
       "\n",
       "    .dataframe tbody tr th {\n",
       "        vertical-align: top;\n",
       "    }\n",
       "\n",
       "    .dataframe thead th {\n",
       "        text-align: right;\n",
       "    }\n",
       "</style>\n",
       "<table border=\"1\" class=\"dataframe\">\n",
       "  <thead>\n",
       "    <tr style=\"text-align: right;\">\n",
       "      <th></th>\n",
       "      <th>Name</th>\n",
       "      <th>Count</th>\n",
       "    </tr>\n",
       "  </thead>\n",
       "  <tbody>\n",
       "    <tr>\n",
       "      <th>3</th>\n",
       "      <td>remdesivir</td>\n",
       "      <td>12</td>\n",
       "    </tr>\n",
       "    <tr>\n",
       "      <th>7</th>\n",
       "      <td>dexamethasone</td>\n",
       "      <td>12</td>\n",
       "    </tr>\n",
       "    <tr>\n",
       "      <th>0</th>\n",
       "      <td>hydroxychloroquine</td>\n",
       "      <td>7</td>\n",
       "    </tr>\n",
       "    <tr>\n",
       "      <th>4</th>\n",
       "      <td>azithromycin</td>\n",
       "      <td>6</td>\n",
       "    </tr>\n",
       "    <tr>\n",
       "      <th>1</th>\n",
       "      <td>chloroquine</td>\n",
       "      <td>3</td>\n",
       "    </tr>\n",
       "    <tr>\n",
       "      <th>2</th>\n",
       "      <td>tocilizumab</td>\n",
       "      <td>2</td>\n",
       "    </tr>\n",
       "    <tr>\n",
       "      <th>5</th>\n",
       "      <td>lopinavir</td>\n",
       "      <td>1</td>\n",
       "    </tr>\n",
       "    <tr>\n",
       "      <th>8</th>\n",
       "      <td>heparin</td>\n",
       "      <td>1</td>\n",
       "    </tr>\n",
       "    <tr>\n",
       "      <th>9</th>\n",
       "      <td>favipiravir</td>\n",
       "      <td>1</td>\n",
       "    </tr>\n",
       "    <tr>\n",
       "      <th>6</th>\n",
       "      <td>ritonavir</td>\n",
       "      <td>0</td>\n",
       "    </tr>\n",
       "    <tr>\n",
       "      <th>10</th>\n",
       "      <td>methylprednisolone</td>\n",
       "      <td>0</td>\n",
       "    </tr>\n",
       "  </tbody>\n",
       "</table>\n",
       "</div>"
      ],
      "text/plain": [
       "                  Name  Count\n",
       "3           remdesivir     12\n",
       "7        dexamethasone     12\n",
       "0   hydroxychloroquine      7\n",
       "4         azithromycin      6\n",
       "1          chloroquine      3\n",
       "2          tocilizumab      2\n",
       "5            lopinavir      1\n",
       "8              heparin      1\n",
       "9          favipiravir      1\n",
       "6            ritonavir      0\n",
       "10  methylprednisolone      0"
      ]
     },
     "execution_count": 38,
     "metadata": {},
     "output_type": "execute_result"
    }
   ],
   "source": [
    "dfm = df[medications]\n",
    "dfm = dfm.sum().reset_index().rename(columns={ 'index' : 'Name', 0 : 'Count'})\n",
    "dfm.sort_values('Count',ascending=False)"
   ]
  },
  {
   "cell_type": "code",
   "execution_count": null,
   "metadata": {},
   "outputs": [
    {
     "data": {
      "image/png": "[encoded data removed]",
      "text/plain": [
       "<Figure size 432x288 with 1 Axes>"
      ]
     },
     "metadata": {
      "needs_background": "light"
     },
     "output_type": "display_data"
    }
   ],
   "source": [
    "dfm.set_index('Name').plot(kind='bar')\n",
    "plt.show()"
   ]
  },
  {
   "cell_type": "markdown",
   "metadata": {},
   "source": [
    "## Looking for Trends in Treatment Strategy\n",
    "\n",
    "In the example above we have `sum`ed all values, but we can also do the same on a monthly basis:"
   ]
  },
  {
   "cell_type": "code",
   "execution_count": null,
   "metadata": {},
   "outputs": [
    {
     "data": {
      "text/html": [
       "<div>\n",
       "<style scoped>\n",
       "    .dataframe tbody tr th:only-of-type {\n",
       "        vertical-align: middle;\n",
       "    }\n",
       "\n",
       "    .dataframe tbody tr th {\n",
       "        vertical-align: top;\n",
       "    }\n",
       "\n",
       "    .dataframe thead th {\n",
       "        text-align: right;\n",
       "    }\n",
       "</style>\n",
       "<table border=\"1\" class=\"dataframe\">\n",
       "  <thead>\n",
       "    <tr style=\"text-align: right;\">\n",
       "      <th></th>\n",
       "      <th></th>\n",
       "      <th>hydroxychloroquine</th>\n",
       "      <th>chloroquine</th>\n",
       "      <th>tocilizumab</th>\n",
       "      <th>remdesivir</th>\n",
       "      <th>azithromycin</th>\n",
       "      <th>lopinavir</th>\n",
       "      <th>ritonavir</th>\n",
       "      <th>dexamethasone</th>\n",
       "      <th>heparin</th>\n",
       "      <th>favipiravir</th>\n",
       "      <th>methylprednisolone</th>\n",
       "    </tr>\n",
       "    <tr>\n",
       "      <th>publish_time</th>\n",
       "      <th>publish_time</th>\n",
       "      <th></th>\n",
       "      <th></th>\n",
       "      <th></th>\n",
       "      <th></th>\n",
       "      <th></th>\n",
       "      <th></th>\n",
       "      <th></th>\n",
       "      <th></th>\n",
       "      <th></th>\n",
       "      <th></th>\n",
       "      <th></th>\n",
       "    </tr>\n",
       "  </thead>\n",
       "  <tbody>\n",
       "    <tr>\n",
       "      <th rowspan=\"12\" valign=\"top\">2020</th>\n",
       "      <th>1</th>\n",
       "      <td>1</td>\n",
       "      <td>0</td>\n",
       "      <td>0</td>\n",
       "      <td>0</td>\n",
       "      <td>0</td>\n",
       "      <td>0</td>\n",
       "      <td>0</td>\n",
       "      <td>0</td>\n",
       "      <td>0</td>\n",
       "      <td>0</td>\n",
       "      <td>0</td>\n",
       "    </tr>\n",
       "    <tr>\n",
       "      <th>2</th>\n",
       "      <td>0</td>\n",
       "      <td>0</td>\n",
       "      <td>0</td>\n",
       "      <td>0</td>\n",
       "      <td>0</td>\n",
       "      <td>0</td>\n",
       "      <td>0</td>\n",
       "      <td>0</td>\n",
       "      <td>0</td>\n",
       "      <td>0</td>\n",
       "      <td>0</td>\n",
       "    </tr>\n",
       "    <tr>\n",
       "      <th>3</th>\n",
       "      <td>0</td>\n",
       "      <td>0</td>\n",
       "      <td>0</td>\n",
       "      <td>0</td>\n",
       "      <td>0</td>\n",
       "      <td>0</td>\n",
       "      <td>0</td>\n",
       "      <td>0</td>\n",
       "      <td>0</td>\n",
       "      <td>0</td>\n",
       "      <td>0</td>\n",
       "    </tr>\n",
       "    <tr>\n",
       "      <th>4</th>\n",
       "      <td>0</td>\n",
       "      <td>0</td>\n",
       "      <td>0</td>\n",
       "      <td>0</td>\n",
       "      <td>0</td>\n",
       "      <td>0</td>\n",
       "      <td>0</td>\n",
       "      <td>0</td>\n",
       "      <td>1</td>\n",
       "      <td>0</td>\n",
       "      <td>0</td>\n",
       "    </tr>\n",
       "    <tr>\n",
       "      <th>5</th>\n",
       "      <td>0</td>\n",
       "      <td>0</td>\n",
       "      <td>0</td>\n",
       "      <td>0</td>\n",
       "      <td>0</td>\n",
       "      <td>0</td>\n",
       "      <td>0</td>\n",
       "      <td>0</td>\n",
       "      <td>0</td>\n",
       "      <td>0</td>\n",
       "      <td>0</td>\n",
       "    </tr>\n",
       "    <tr>\n",
       "      <th>6</th>\n",
       "      <td>0</td>\n",
       "      <td>0</td>\n",
       "      <td>0</td>\n",
       "      <td>9</td>\n",
       "      <td>0</td>\n",
       "      <td>0</td>\n",
       "      <td>0</td>\n",
       "      <td>0</td>\n",
       "      <td>0</td>\n",
       "      <td>0</td>\n",
       "      <td>0</td>\n",
       "    </tr>\n",
       "    <tr>\n",
       "      <th>7</th>\n",
       "      <td>3</td>\n",
       "      <td>3</td>\n",
       "      <td>0</td>\n",
       "      <td>0</td>\n",
       "      <td>5</td>\n",
       "      <td>0</td>\n",
       "      <td>0</td>\n",
       "      <td>0</td>\n",
       "      <td>0</td>\n",
       "      <td>0</td>\n",
       "      <td>0</td>\n",
       "    </tr>\n",
       "    <tr>\n",
       "      <th>8</th>\n",
       "      <td>0</td>\n",
       "      <td>0</td>\n",
       "      <td>2</td>\n",
       "      <td>0</td>\n",
       "      <td>0</td>\n",
       "      <td>0</td>\n",
       "      <td>0</td>\n",
       "      <td>0</td>\n",
       "      <td>0</td>\n",
       "      <td>0</td>\n",
       "      <td>0</td>\n",
       "    </tr>\n",
       "    <tr>\n",
       "      <th>9</th>\n",
       "      <td>0</td>\n",
       "      <td>0</td>\n",
       "      <td>0</td>\n",
       "      <td>0</td>\n",
       "      <td>0</td>\n",
       "      <td>1</td>\n",
       "      <td>0</td>\n",
       "      <td>0</td>\n",
       "      <td>0</td>\n",
       "      <td>1</td>\n",
       "      <td>0</td>\n",
       "    </tr>\n",
       "    <tr>\n",
       "      <th>10</th>\n",
       "      <td>0</td>\n",
       "      <td>0</td>\n",
       "      <td>0</td>\n",
       "      <td>0</td>\n",
       "      <td>0</td>\n",
       "      <td>0</td>\n",
       "      <td>0</td>\n",
       "      <td>0</td>\n",
       "      <td>0</td>\n",
       "      <td>0</td>\n",
       "      <td>0</td>\n",
       "    </tr>\n",
       "    <tr>\n",
       "      <th>11</th>\n",
       "      <td>0</td>\n",
       "      <td>0</td>\n",
       "      <td>0</td>\n",
       "      <td>0</td>\n",
       "      <td>0</td>\n",
       "      <td>0</td>\n",
       "      <td>0</td>\n",
       "      <td>0</td>\n",
       "      <td>0</td>\n",
       "      <td>0</td>\n",
       "      <td>0</td>\n",
       "    </tr>\n",
       "    <tr>\n",
       "      <th>12</th>\n",
       "      <td>0</td>\n",
       "      <td>0</td>\n",
       "      <td>0</td>\n",
       "      <td>0</td>\n",
       "      <td>0</td>\n",
       "      <td>0</td>\n",
       "      <td>0</td>\n",
       "      <td>0</td>\n",
       "      <td>0</td>\n",
       "      <td>0</td>\n",
       "      <td>0</td>\n",
       "    </tr>\n",
       "    <tr>\n",
       "      <th rowspan=\"7\" valign=\"top\">2021</th>\n",
       "      <th>1</th>\n",
       "      <td>2</td>\n",
       "      <td>0</td>\n",
       "      <td>0</td>\n",
       "      <td>3</td>\n",
       "      <td>0</td>\n",
       "      <td>0</td>\n",
       "      <td>0</td>\n",
       "      <td>0</td>\n",
       "      <td>0</td>\n",
       "      <td>0</td>\n",
       "      <td>0</td>\n",
       "    </tr>\n",
       "    <tr>\n",
       "      <th>2</th>\n",
       "      <td>0</td>\n",
       "      <td>0</td>\n",
       "      <td>0</td>\n",
       "      <td>0</td>\n",
       "      <td>0</td>\n",
       "      <td>0</td>\n",
       "      <td>0</td>\n",
       "      <td>11</td>\n",
       "      <td>0</td>\n",
       "      <td>0</td>\n",
       "      <td>0</td>\n",
       "    </tr>\n",
       "    <tr>\n",
       "      <th>3</th>\n",
       "      <td>0</td>\n",
       "      <td>0</td>\n",
       "      <td>0</td>\n",
       "      <td>0</td>\n",
       "      <td>0</td>\n",
       "      <td>0</td>\n",
       "      <td>0</td>\n",
       "      <td>0</td>\n",
       "      <td>0</td>\n",
       "      <td>0</td>\n",
       "      <td>0</td>\n",
       "    </tr>\n",
       "    <tr>\n",
       "      <th>4</th>\n",
       "      <td>0</td>\n",
       "      <td>0</td>\n",
       "      <td>0</td>\n",
       "      <td>0</td>\n",
       "      <td>0</td>\n",
       "      <td>0</td>\n",
       "      <td>0</td>\n",
       "      <td>0</td>\n",
       "      <td>0</td>\n",
       "      <td>0</td>\n",
       "      <td>0</td>\n",
       "    </tr>\n",
       "    <tr>\n",
       "      <th>5</th>\n",
       "      <td>0</td>\n",
       "      <td>0</td>\n",
       "      <td>0</td>\n",
       "      <td>0</td>\n",
       "      <td>0</td>\n",
       "      <td>0</td>\n",
       "      <td>0</td>\n",
       "      <td>0</td>\n",
       "      <td>0</td>\n",
       "      <td>0</td>\n",
       "      <td>0</td>\n",
       "    </tr>\n",
       "    <tr>\n",
       "      <th>6</th>\n",
       "      <td>0</td>\n",
       "      <td>0</td>\n",
       "      <td>0</td>\n",
       "      <td>0</td>\n",
       "      <td>0</td>\n",
       "      <td>0</td>\n",
       "      <td>0</td>\n",
       "      <td>0</td>\n",
       "      <td>0</td>\n",
       "      <td>0</td>\n",
       "      <td>0</td>\n",
       "    </tr>\n",
       "    <tr>\n",
       "      <th>7</th>\n",
       "      <td>0</td>\n",
       "      <td>0</td>\n",
       "      <td>0</td>\n",
       "      <td>0</td>\n",
       "      <td>0</td>\n",
       "      <td>0</td>\n",
       "      <td>0</td>\n",
       "      <td>0</td>\n",
       "      <td>0</td>\n",
       "      <td>0</td>\n",
       "      <td>0</td>\n",
       "    </tr>\n",
       "  </tbody>\n",
       "</table>\n",
       "</div>"
      ],
      "text/plain": [
       "                           hydroxychloroquine  chloroquine  tocilizumab  \\\n",
       "publish_time publish_time                                                 \n",
       "2020         1                              1            0            0   \n",
       "             2                              0            0            0   \n",
       "             3                              0            0            0   \n",
       "             4                              0            0            0   \n",
       "             5                              0            0            0   \n",
       "             6                              0            0            0   \n",
       "             7                              3            3            0   \n",
       "             8                              0            0            2   \n",
       "             9                              0            0            0   \n",
       "             10                             0            0            0   \n",
       "             11                             0            0            0   \n",
       "             12                             0            0            0   \n",
       "2021         1                              2            0            0   \n",
       "             2                              0            0            0   \n",
       "             3                              0            0            0   \n",
       "             4                              0            0            0   \n",
       "             5                              0            0            0   \n",
       "             6                              0            0            0   \n",
       "             7                              0            0            0   \n",
       "\n",
       "                           remdesivir  azithromycin  lopinavir  ritonavir  \\\n",
       "publish_time publish_time                                                   \n",
       "2020         1                      0             0          0          0   \n",
       "             2                      0             0          0          0   \n",
       "             3                      0             0          0          0   \n",
       "             4                      0             0          0          0   \n",
       "             5                      0             0          0          0   \n",
       "             6                      9             0          0          0   \n",
       "             7                      0             5          0          0   \n",
       "             8                      0             0          0          0   \n",
       "             9                      0             0          1          0   \n",
       "             10                     0             0          0          0   \n",
       "             11                     0             0          0          0   \n",
       "             12                     0             0          0          0   \n",
       "2021         1                      3             0          0          0   \n",
       "             2                      0             0          0          0   \n",
       "             3                      0             0          0          0   \n",
       "             4                      0             0          0          0   \n",
       "             5                      0             0          0          0   \n",
       "             6                      0             0          0          0   \n",
       "             7                      0             0          0          0   \n",
       "\n",
       "                           dexamethasone  heparin  favipiravir  \\\n",
       "publish_time publish_time                                        \n",
       "2020         1                         0        0            0   \n",
       "             2                         0        0            0   \n",
       "             3                         0        0            0   \n",
       "             4                         0        1            0   \n",
       "             5                         0        0            0   \n",
       "             6                         0        0            0   \n",
       "             7                         0        0            0   \n",
       "             8                         0        0            0   \n",
       "             9                         0        0            1   \n",
       "             10                        0        0            0   \n",
       "             11                        0        0            0   \n",
       "             12                        0        0            0   \n",
       "2021         1                         0        0            0   \n",
       "             2                        11        0            0   \n",
       "             3                         0        0            0   \n",
       "             4                         0        0            0   \n",
       "             5                         0        0            0   \n",
       "             6                         0        0            0   \n",
       "             7                         0        0            0   \n",
       "\n",
       "                           methylprednisolone  \n",
       "publish_time publish_time                      \n",
       "2020         1                              0  \n",
       "             2                              0  \n",
       "             3                              0  \n",
       "             4                              0  \n",
       "             5                              0  \n",
       "             6                              0  \n",
       "             7                              0  \n",
       "             8                              0  \n",
       "             9                              0  \n",
       "             10                             0  \n",
       "             11                             0  \n",
       "             12                             0  \n",
       "2021         1                              0  \n",
       "             2                              0  \n",
       "             3                              0  \n",
       "             4                              0  \n",
       "             5                              0  \n",
       "             6                              0  \n",
       "             7                              0  "
      ]
     },
     "execution_count": 9,
     "metadata": {},
     "output_type": "execute_result"
    }
   ],
   "source": [
    "dfm = df[['publish_time']+medications].set_index('publish_time')\n",
    "dfm = dfm[(dfm.index>=\"2020-01-01\") & (dfm.index<=\"2021-07-31\")]\n",
    "dfmt = dfm.groupby([dfm.index.year,dfm.index.month]).sum()\n",
    "dfmt"
   ]
  },
  {
   "cell_type": "markdown",
   "metadata": {},
   "source": [
    "This gives us a good picture of treatment strategies. Let's visualize it!"
   ]
  },
  {
   "cell_type": "code",
   "execution_count": null,
   "metadata": {},
   "outputs": [
    {
     "data": {
      "image/png": "[encoded data removed]",
      "text/plain": [
       "<Figure size 432x288 with 1 Axes>"
      ]
     },
     "metadata": {
      "needs_background": "light"
     },
     "output_type": "display_data"
    }
   ],
   "source": [
    "dfmt.plot()\n",
    "plt.show()"
   ]
  },
  {
   "cell_type": "markdown",
   "metadata": {},
   "source": [
    "An interesting observation is that we have huge spikes at two locations: January, 2020 and January, 2021. It is caused by the fact that some papers do not have a clearly specified data of publication, and they are specified as January of the respective year.\n",
    "\n",
    "To make more sense of the data, let's visualize just a few medicines. We will also \"erase\" data for January, and fill it in by some medium value, in order to make nicer plot:"
   ]
  },
  {
   "cell_type": "code",
   "execution_count": null,
   "metadata": {},
   "outputs": [
    {
     "data": {
      "image/png": "[encoded data removed]",
      "text/plain": [
       "<Figure size 720x216 with 3 Axes>"
      ]
     },
     "metadata": {
      "needs_background": "light"
     },
     "output_type": "display_data"
    }
   ],
   "source": [
    "meds = ['hydroxychloroquine','tocilizumab','favipiravir']\n",
    "dfmt.loc[(2020,1)] = np.nan\n",
    "dfmt.loc[(2021,1)] = np.nan\n",
    "dfmt.fillna(method='pad',inplace=True)\n",
    "fig, ax = plt.subplots(1,len(meds),figsize=(10,3))\n",
    "for i,m in enumerate(meds):\n",
    "    dfmt[m].plot(ax=ax[i])\n",
    "    ax[i].set_title(m)\n",
    "plt.show()"
   ]
  },
  {
   "cell_type": "markdown",
   "metadata": {},
   "source": [
    "Observe how popularity of hydroxychloroquine was on the rise in the first few months, and then started to decline, while number of mentions of favipiravir shows stable rise. Another good way to visualize relative popularity is to use **stack plot** (or **area plot** in Pandas terminology):"
   ]
  },
  {
   "cell_type": "code",
   "execution_count": null,
   "metadata": {},
   "outputs": [
    {
     "data": {
      "image/png": "[encoded data removed]",
      "text/plain": [
       "<Figure size 432x288 with 1 Axes>"
      ]
     },
     "metadata": {
      "needs_background": "light"
     },
     "output_type": "display_data"
    }
   ],
   "source": [
    "dfmt.plot.area()\n",
    "plt.show()"
   ]
  },
  {
   "cell_type": "markdown",
   "metadata": {},
   "source": [
    "Even further, we can compute relative popularity in percents:"
   ]
  },
  {
   "cell_type": "code",
   "execution_count": null,
   "metadata": {},
   "outputs": [
    {
     "data": {
      "image/png": "[encoded data removed]",
      "text/plain": [
       "<Figure size 432x288 with 1 Axes>"
      ]
     },
     "metadata": {
      "needs_background": "light"
     },
     "output_type": "display_data"
    }
   ],
   "source": [
    "dfmtp = dfmt.iloc[:,:].apply(lambda x: x/x.sum(), axis=1)\n",
    "dfmtp.plot.area()\n",
    "plt.show()"
   ]
  },
  {
   "cell_type": "markdown",
   "metadata": {},
   "source": [
    "\n",
    "## Computing Medicine-Diagnosis Correspondence\n",
    "\n",
    "One of the most interesting relationships we can look for is how different diagnoses are treated with different medicines. In order to visualize it, we need to compute **co-occurence frequency map**, which would show how many times two terms are mentioned in the same paper.\n",
    "\n",
    "Such a map is essentially a 2D matrix, which is best represented by **numpy array**. We will compute this map by walking through all abstracts, and marking entities that occur there:"
   ]
  },
  {
   "cell_type": "code",
   "execution_count": null,
   "metadata": {},
   "outputs": [],
   "source": [
    "m = np.zeros((len(medications),len(diagnosis)))\n",
    "for a in df['abstract']:\n",
    "    x = str(a).lower()\n",
    "    for i,d in enumerate(diagnosis):\n",
    "        if ' '+d in x:\n",
    "            for j,me in enumerate(medications):\n",
    "                if ' '+me in x:\n",
    "                    m[j,i] += 1"
   ]
  },
  {
   "cell_type": "code",
   "execution_count": null,
   "metadata": {},
   "outputs": [
    {
     "data": {
      "text/plain": [
       "array([[4., 3., 1., 1., 0., 0., 1.],\n",
       "       [1., 0., 1., 0., 0., 0., 0.],\n",
       "       [1., 0., 0., 0., 0., 0., 0.],\n",
       "       [2., 2., 1., 2., 0., 1., 0.],\n",
       "       [2., 1., 1., 0., 0., 0., 1.],\n",
       "       [1., 1., 1., 0., 0., 1., 0.],\n",
       "       [0., 0., 0., 0., 0., 0., 0.],\n",
       "       [0., 0., 0., 0., 0., 0., 0.],\n",
       "       [1., 0., 1., 1., 1., 0., 1.],\n",
       "       [1., 1., 1., 0., 0., 1., 0.],\n",
       "       [0., 0., 0., 0., 0., 0., 0.]])"
      ]
     },
     "execution_count": 15,
     "metadata": {},
     "output_type": "execute_result"
    }
   ],
   "source": [
    "m"
   ]
  },
  {
   "cell_type": "markdown",
   "metadata": {},
   "source": [
    "One of the ways to visualize this matrix is to draw a **heatmap**:"
   ]
  },
  {
   "cell_type": "code",
   "execution_count": null,
   "metadata": {},
   "outputs": [
    {
     "data": {
      "image/png": "[encoded data removed]",
      "text/plain": [
       "<Figure size 432x288 with 1 Axes>"
      ]
     },
     "metadata": {
      "needs_background": "light"
     },
     "output_type": "display_data"
    }
   ],
   "source": [
    "plt.imshow(m,interpolation='nearest',cmap='hot')\n",
    "ax = plt.gca()\n",
    "ax.set_yticks(range(len(medications))) \n",
    "ax.set_yticklabels(medications)\n",
    "ax.set_xticks(range(len(diagnosis)))\n",
    "ax.set_xticklabels(diagnosis,rotation=90)\n",
    "plt.show()"
   ]
  },
  {
   "cell_type": "markdown",
   "metadata": {},
   "source": [
    "However, even better visualization can be done using so-called **Sankey** diagram! `matplotlib` does not have built-in support for this diagram type, so we would have to use [Plotly](https://plotly.com/python/) as described [in this tutorial](https://plotly.com/python/sankey-diagram/).\n",
    "\n",
    "To make plotly sankey diagram, we need to build the following lists:\n",
    "* List `all_nodes` of all nodes in the graph, which will include both medications and diagnosis\n",
    "* List of source and target indices - those lists would show, which nodes go to the left, and which to the right part of the diagram\n",
    "* List of all links, each link consisting of:\n",
    "   - Source index in the `all_nodes` array\n",
    "   - Target index \n",
    "   - Value indicating strength of the link. This is exactly the value from our co-occurence matrix.\n",
    "   - Optionally color of the link. We will make an option to highlight some of the terms for clarity\n",
    "\n",
    "Generic code to draw sankey diagram is structured as a separate `sankey` function, which takes two lists (source and target categories) and co-occurence matrix. It also allows us to specify the threshold, and omit all links that are weaker than that threshold - this makes the diagram a little bit less complex. "
   ]
  },
  {
   "cell_type": "code",
   "execution_count": null,
   "metadata": {},
   "outputs": [
    {
     "ename": "ModuleNotFoundError",
     "evalue": "No module named 'plotly'",
     "output_type": "error",
     "traceback": [
      "\u001b[1;31m---------------------------------------------------------------------------\u001b[0m",
      "\u001b[1;31mModuleNotFoundError\u001b[0m                       Traceback (most recent call last)",
      "\u001b[1;32m<ipython-input-17-d24e50516e7a>\u001b[0m in \u001b[0;36m<module>\u001b[1;34m\u001b[0m\n\u001b[1;32m----> 1\u001b[1;33m \u001b[1;32mimport\u001b[0m \u001b[0mplotly\u001b[0m\u001b[1;33m.\u001b[0m\u001b[0mgraph_objects\u001b[0m \u001b[1;32mas\u001b[0m \u001b[0mgo\u001b[0m\u001b[1;33m\u001b[0m\u001b[1;33m\u001b[0m\u001b[0m\n\u001b[0m\u001b[0;32m      2\u001b[0m \u001b[1;33m\u001b[0m\u001b[0m\n\u001b[0;32m      3\u001b[0m \u001b[1;32mdef\u001b[0m \u001b[0msankey\u001b[0m\u001b[1;33m(\u001b[0m\u001b[0mcat1\u001b[0m\u001b[1;33m,\u001b[0m \u001b[0mcat2\u001b[0m\u001b[1;33m,\u001b[0m \u001b[0mm\u001b[0m\u001b[1;33m,\u001b[0m \u001b[0mtreshold\u001b[0m\u001b[1;33m=\u001b[0m\u001b[1;36m0\u001b[0m\u001b[1;33m,\u001b[0m \u001b[0mh1\u001b[0m\u001b[1;33m=\u001b[0m\u001b[1;33m[\u001b[0m\u001b[1;33m]\u001b[0m\u001b[1;33m,\u001b[0m \u001b[0mh2\u001b[0m\u001b[1;33m=\u001b[0m\u001b[1;33m[\u001b[0m\u001b[1;33m]\u001b[0m\u001b[1;33m)\u001b[0m\u001b[1;33m:\u001b[0m\u001b[1;33m\u001b[0m\u001b[1;33m\u001b[0m\u001b[0m\n\u001b[0;32m      4\u001b[0m     \u001b[0mall_nodes\u001b[0m \u001b[1;33m=\u001b[0m \u001b[0mcat1\u001b[0m \u001b[1;33m+\u001b[0m \u001b[0mcat2\u001b[0m\u001b[1;33m\u001b[0m\u001b[1;33m\u001b[0m\u001b[0m\n\u001b[0;32m      5\u001b[0m     \u001b[0msource_indices\u001b[0m \u001b[1;33m=\u001b[0m \u001b[0mlist\u001b[0m\u001b[1;33m(\u001b[0m\u001b[0mrange\u001b[0m\u001b[1;33m(\u001b[0m\u001b[0mlen\u001b[0m\u001b[1;33m(\u001b[0m\u001b[0mcat1\u001b[0m\u001b[1;33m)\u001b[0m\u001b[1;33m)\u001b[0m\u001b[1;33m)\u001b[0m\u001b[1;33m\u001b[0m\u001b[1;33m\u001b[0m\u001b[0m\n",
      "\u001b[1;31mModuleNotFoundError\u001b[0m: No module named 'plotly'"
     ]
    }
   ],
   "source": [
    "import plotly.graph_objects as go\n",
    "\n",
    "def sankey(cat1, cat2, m, treshold=0, h1=[], h2=[]):\n",
    "    all_nodes = cat1 + cat2\n",
    "    source_indices = list(range(len(cat1)))\n",
    "    target_indices = list(range(len(cat1),len(cat1)+len(cat2)))\n",
    "\n",
    "    s, t, v, c = [], [], [], []\n",
    "    for i in range(len(cat1)):\n",
    "        for j in range(len(cat2)):\n",
    "            if m[i,j]>treshold:\n",
    "                s.append(i)\n",
    "                t.append(len(cat1)+j)\n",
    "                v.append(m[i,j])\n",
    "                c.append('pink' if i in h1 or j in h2 else 'lightgray')\n",
    "\n",
    "    fig = go.Figure(data=[go.Sankey(\n",
    "        # Define nodes\n",
    "        node = dict(\n",
    "        pad = 40,\n",
    "        thickness = 40,\n",
    "        line = dict(color = \"black\", width = 1.0),\n",
    "        label =  all_nodes),\n",
    "\n",
    "        # Add links\n",
    "        link = dict(\n",
    "        source =  s,\n",
    "        target =  t,\n",
    "        value =  v,\n",
    "        color = c\n",
    "    ))])\n",
    "    fig.show()\n",
    "\n",
    "sankey(medications,diagnosis,m,500,h2=[0])"
   ]
  },
  {
   "cell_type": "markdown",
   "metadata": {},
   "source": [
    "## Conclusion\n",
    "\n",
    "You have seen that we can use quite simple methods to extract information from non-structured data sources, such as text. In this example, we have taken the existing list of medications, but it would be much more powerful to use natural language processing (NLP) techniques to perform entity extraction from text. In [this blog post](https://soshnikov.com/science/analyzing-medical-papers-with-azure-and-text-analytics-for-health/) we describe how to use cloud services for entity extraction. Another option would be using Python NLP libraries such as [NLTK](https://www.nltk.org/) - an approach for extracting information from text using NLTK is described [here](https://www.nltk.org/book/ch07.html)."
   ]
  },
  {
   "cell_type": "markdown",
   "metadata": {},
   "source": [
    "## Challenge\n",
    "\n",
    "Continue to research the COVID paper data along the following lines:\n",
    "\n",
    "1. Build co-occurrence matrix of different medications, and see which medications often occur together (i.e. mentioned in one abstract). You can modify the code for building co-occurrence matrix for medications and diagnoses.\n",
    "1. Visualize this matrix using heatmap.\n",
    "1. As a stretch goal, you may want to visualize the co-occurrence of medications using [chord diagram](https://en.wikipedia.org/wiki/Chord_diagram). [This library](https://pypi.org/project/chord/) may help you draw a chord diagram.\n",
    "1. As another stretch goal, try to extract dosages of different medications (such as **400mg** in *take 400mg of chloroquine daily*) using regular expressions, and build dataframe that shows different dosages for different medications. **Note**: consider numeric values that are in close textual vicinity of the medicine name."
   ]
  },
  {
   "cell_type": "markdown",
   "metadata": {},
   "source": []
  }
 ],
 "metadata": {
  "interpreter": {
   "hash": "86193a1ab0ba47eac1c69c1756090baa3b420b3eea7d4aafab8b85f8b312f0c5"
  },
  "kernelspec": {
   "display_name": "Python 3",
   "language": "python",
   "name": "python3"
  },
  "language_info": {
   "codemirror_mode": {
    "name": "ipython",
    "version": 3
   },
   "file_extension": ".py",
   "mimetype": "text/x-python",
   "name": "python",
   "nbconvert_exporter": "python",
   "pygments_lexer": "ipython3",
   "version": "3.8.5"
  }
 },
 "nbformat": 4,
 "nbformat_minor": 2
}
