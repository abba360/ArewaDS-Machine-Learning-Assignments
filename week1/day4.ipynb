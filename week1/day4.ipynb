{
 "cells": [
  {
   "attachments": {},
   "cell_type": "markdown",
   "metadata": {},
   "source": [
    "**Techniquess of ML**\n",
    "- Decide on the question: at this process most questions that cannot be answered by simple conditional programs or rule based-engine are adressed. These questions often revolve around predictions of the collected of data. for examples smokers data collected in kano state to prove mortality there might be high probability that the smokers are not residents of kano, if there is such scenario the result predicted would poor.  \n",
    "\n",
    "- Collect and prepare data: at this process data are collected based on quality and often quantity in case of deep learning. when collecting data adhere to fairness and avoid un-fairness or biases at all cost. prepare data by interpreting the data using visualization libraries such as Matplotlib or Searborn lastly split the dataset into three namely: \n",
    "  -  Training dataset: whole original data to be tested\n",
    "  -  Testing dataset: An independent data to be tested\n",
    "  -  Validating dataset: small independent data to be tested\n",
    "\n",
    "- Choose a training method: at this process training method is choose base on questions and the nature of the data depending on ones experience a starter might through several different methods to build the best mode. \n",
    "\n",
    "- Train the model: at this process model data is train based on splitted dataset. Model.fit is a common command to start the training process in various ML libraries \n",
    "\n",
    "- Evaluate the model: after several iteration of training the data (i.e after successfull training of data) model's quality and performance is checked using the an unanalized subset of the original dataset. common problems that degrade the model's quality is \n",
    "  -  Underfitting : underfit is not accurate as it cannot accurately analyze its training data or data it has not yet *seen*. \n",
    "  -  Overfitting : overfit is accurate as it has learn too well because it has learned the data's details and noise too well. \n",
    "  \n",
    "- Parameter tuning:  Based on the performance of your model, one redo th process using different parameters or variable\n",
    "\n",
    "- Predict :  Use new inputs to test the accuracy of your model."
   ]
  }
 ],
 "metadata": {
  "language_info": {
   "name": "python"
  },
  "orig_nbformat": 4
 },
 "nbformat": 4,
 "nbformat_minor": 2
}
