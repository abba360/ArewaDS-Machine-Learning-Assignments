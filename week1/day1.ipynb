{
 "cells": [
  {
   "attachments": {},
   "cell_type": "markdown",
   "metadata": {},
   "source": [
    "**Introduction to Machine Learning**\n",
    "\n",
    "**Difference between AI, ML and DL**\n",
    "Artificial Intelligence (AI) is a collection of concepts that enables computers to mimic human behavior. \n",
    "\n",
    "Machine learning (ML) is the process of automating or programming computer program or software to automatically improve themselves through experience. it is the branch of AI that deals with instructing and training the algorithms to execute tasks.\n",
    "\n",
    "Deep Learning (DL) is a branch of machine learning that is completely based on artificial neural networks while neural network mimic the human brain.\n",
    "\n",
    "**Application of Machine Learning**\n",
    "- Image Recognition\n",
    "- Self-Driving Cars\n",
    "- Speech Recognition\n",
    "- Traffic Prediction\n",
    "- Product Recommendations\n",
    "- Email Spam and Malware Filtering\n",
    "- Virtual Personal Assistant\n",
    "- Online Fraud Detection\n",
    "- Stock Market Trading Predictions\n",
    "- Medical Diagnosis\n",
    "- Automatic Language Translation\n",
    "  \n",
    "\n"
   ]
  },
  {
   "cell_type": "markdown",
   "metadata": {},
   "source": []
  }
 ],
 "metadata": {
  "language_info": {
   "name": "python"
  },
  "orig_nbformat": 4
 },
 "nbformat": 4,
 "nbformat_minor": 2
}
