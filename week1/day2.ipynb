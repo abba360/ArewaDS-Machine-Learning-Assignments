{
 "cells": [
  {
   "attachments": {},
   "cell_type": "markdown",
   "metadata": {},
   "source": [
    "**History ML/AI**\n",
    "\n",
    "1950: Alan turing created imitation game which was globally recgnised as turing test. Alan turing lays a foundation to AI/ML from his concepts of \"Machine That Thinks\".\n",
    "\n",
    "1956: The *Artificial Intelligence* was coined at Dartmouth college during the Dartmouth Summer Research Project.The lead researcher was mathematics professor John McCarthy\n",
    "\n",
    "1956 - 1974: *The golden years* During this years researches were greatly funded NLP flourished. *Shakey the robot*, *Eliza* and *Blocks world* were made, *Shakey the robot* was used to maneuver and decide how to perform tasks *intelligently*, *Eliza* was used to converse with people and act as a primitive 'therapist' while *Blocks world* was used as a micro-world where blocks could be stacked and sorted.\n",
    "\n",
    "1959: The term Machine Learning was coined by *Arthur Samuel* at IBM who was developing a intelligent game.  \n",
    "\n",
    "1974 - 1980: *AI Winter* During this years research fundings were seized, Eliza the *AI Therapist* was challenge on ethics.Turing tests test was also challenge by the *'chinese room theory'* which posited that, \"programming a digital computer may make it appear to understand language but could not produce real understanding.\"\n",
    "\n",
    "1980s: *Expert systems* During this years hybrid systems were made consisting partially of a rules engine defining business requirements, and an inference engine that leveraged the rules system to deduce new facts.\n",
    "\n",
    "1987 - 1993: *AI 'Chill'* During this years there was a rapid increase in expert systems and The begining of democratization of computing which gives rise to massive ownership of personal computer.\n",
    "\n",
    "1993 - 2011:  the advent of the smartphone was around 2007 and a lot of poblems.\n",
    "\n",
    "Now: currently This era calls for seamless understanding of the risks and potentials effects of these algorithms on human lives. "
   ]
  }
 ],
 "metadata": {
  "language_info": {
   "name": "python"
  },
  "orig_nbformat": 4
 },
 "nbformat": 4,
 "nbformat_minor": 2
}
